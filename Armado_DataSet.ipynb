{
  "cells": [
    {
      "cell_type": "markdown",
      "metadata": {
        "id": "wAS_TOOWtuYO"
      },
      "source": [
        "# Creación de un Data Set desde webscrapping\n",
        "\n",
        "A continuación, se explican los pasos realizados para armar un conjunto de datos compuestos por textos de 3 temas de interés, que luego se utilizarán para el entrenamiento de un modelo de clasificación de textos.\n"
      ]
    },
    {
      "cell_type": "markdown",
      "metadata": {},
      "source": [
        "## Preparación del ambiente de trabajo"
      ]
    },
    {
      "cell_type": "markdown",
      "metadata": {},
      "source": [
        "Clonar el proyecto desde GitHub haciendo `git clone ` en la consola, ubicando previamente la carpeta donde se quiere trabajar.\n",
        "\n",
        "Para preparación del entorno de trabajo en Visual Studio Code se deben hacer los siguients pasos:\n",
        "\n",
        "* Crear entorno Python `-m venv env`\n",
        "* Ingresar al entorno haciendo `venv\\Scripts\\activate`\n",
        "* Instalar dependencias con `pip install -r requirements.txt`"
      ]
    },
    {
      "cell_type": "markdown",
      "metadata": {
        "id": "vuN0OHeDuO03"
      },
      "source": [
        "## Importaciones y descargas necesarias"
      ]
    },
    {
      "cell_type": "code",
      "execution_count": 10,
      "metadata": {
        "colab": {
          "base_uri": "https://localhost:8080/"
        },
        "id": "qJg0IvKPQg0D",
        "outputId": "b78bfc1f-8ca2-48ba-eb09-dd0dada6f5c2"
      },
      "outputs": [
        {
          "name": "stderr",
          "output_type": "stream",
          "text": [
            "[nltk_data] Downloading package stopwords to\n",
            "[nltk_data]     C:\\Users\\Marco\\AppData\\Roaming\\nltk_data...\n",
            "[nltk_data]   Package stopwords is already up-to-date!\n",
            "[nltk_data] Downloading package wordnet to\n",
            "[nltk_data]     C:\\Users\\Marco\\AppData\\Roaming\\nltk_data...\n",
            "[nltk_data]   Package wordnet is already up-to-date!\n",
            "[nltk_data] Downloading package punkt to\n",
            "[nltk_data]     C:\\Users\\Marco\\AppData\\Roaming\\nltk_data...\n",
            "[nltk_data]   Package punkt is already up-to-date!\n"
          ]
        },
        {
          "data": {
            "text/plain": [
              "True"
            ]
          },
          "execution_count": 10,
          "metadata": {},
          "output_type": "execute_result"
        }
      ],
      "source": [
        "# Importaciones a usar\n",
        "\n",
        "#import numpy as np\n",
        "import pandas as pd\n",
        "\n",
        "from bs4 import BeautifulSoup\n",
        "import requests\n",
        "import nltk\n",
        "from nltk.corpus import stopwords\n",
        "from nltk.stem import WordNetLemmatizer\n",
        "import re\n",
        "# Descargas necesarias\n",
        "nltk.download('stopwords')\n",
        "nltk.download('wordnet')\n",
        "nltk.download('punkt')"
      ]
    },
    {
      "cell_type": "markdown",
      "metadata": {
        "id": "6gcXg0ujukH6"
      },
      "source": [
        "## Creación del conjunto de datos\n",
        "\n",
        "### Creación del listado de URL para armar el conjunto de datos\n",
        "\n",
        "En primer lugar se necesita crear el archivo `DataSet.csv` que se puede crear con ChatGPT. Por ejemplo, para este proyecto se utilizó el siguiente prompt para solicitar un listado de URL por temas de interés:\n",
        "\n",
        "\"*Sos un machine learning developer, y estas haciendo un data set para una clasificación de texto. Necesitas armar el conjunto de datos. Necesito que me des 50 links de wikipedia en ingles, relacionados con el tema Meteorología.\n",
        "Me los tenes que dar en formato csv con dos columnas, la primera con las URL y la segunda con la Clase, que en este caso sería Meteorology.*\"\n",
        "\n",
        "Solicitarle continuar la respuesta hasta que finalice de escribir las URL, si fuera necesario. Cuando finalice, se le puede decir:\n",
        "\n",
        "\"*Dame lo mismo para biologia*\"\n",
        "\n",
        "De esta manera, se puede solicitar todas las categorías de interés. Para este proyecto se usaron: Meteorología, Biología y Deporte.\n",
        "\n",
        "Guardar todos los links que proporciona ChatGPT en un solo archivo .csv con la precaución de nombrar las columnas como URL y Clase.\n",
        "\n",
        "### Creación del DataFrame con los textos extraídos de las URL\n",
        "\n",
        "Con la función `obtener_registros_por_parrafo` se recorre el archivo `DataSet.csv`, obtiene los textos ubicados entre etiquetas `<p>` y los guarda en un DataFrame llamado `registros_df`.\n",
        "\n"
      ]
    },
    {
      "cell_type": "code",
      "execution_count": 6,
      "metadata": {
        "id": "SH6yIrEPTRic"
      },
      "outputs": [],
      "source": [
        "def obtener_registros_por_parrafo(archivo):\n",
        "    '''\n",
        "    Permite abrir un archivo .csv que contiene una columna con las URL desde donde se quiere extrae textos y\n",
        "    otra columna con las Clase (categoría) a la que pertenece ese texto.\n",
        "    La función recorre cada URL y toma el texto que se encuentra en las etiquetas <p>.\n",
        "    Finalmente lo guarda en un DataFrame de pandas.\n",
        "    '''\n",
        "    # Lee el archivo de CSV con pandas\n",
        "    df = pd.read_csv(archivo, encoding='latin1')\n",
        "\n",
        "    # Lista vacía para guardar los registros\n",
        "    registros = []\n",
        "\n",
        "    # Itera sobre cada registro del df\n",
        "    for _, row in df.iterrows():\n",
        "        url = row[\"URL\"]\n",
        "        clase = row[\"Clase\"]\n",
        "\n",
        "        # Toma los parrafos si es que la URL funciona\n",
        "        req = requests.get(url)\n",
        "        if req.status_code == 200:\n",
        "            html = BeautifulSoup(req.text, \"html.parser\")\n",
        "            parrafos = [para.text for para in html.find_all(\"p\")]\n",
        "\n",
        "            for parrafo in parrafos:\n",
        "                # Divide el párrafo en sentencias usando los saltos de línea\n",
        "                sentencias = parrafo.split('\\n')\n",
        "\n",
        "                for sentencia in sentencias:\n",
        "                    # Elimina espacios en blanco al inicio y final de la sentencia\n",
        "                    sentencia = sentencia.strip()\n",
        "\n",
        "                    # Agrega un registro por cada sentencia conservando la URL y la clase\n",
        "                    registros.append({\"URL\": url, \"Clase\": clase, \"Sentencia\": sentencia})\n",
        "\n",
        "    # Crea el DtaFrame final con los registros obtenidos\n",
        "    registros_df = pd.DataFrame(registros)\n",
        "    return registros_df\n"
      ]
    },
    {
      "cell_type": "code",
      "execution_count": 7,
      "metadata": {
        "colab": {
          "base_uri": "https://localhost:8080/",
          "height": 424
        },
        "id": "BNqQhZPV-c33",
        "outputId": "4f5ab232-d6d5-458a-c5b7-2137a05ed613"
      },
      "outputs": [
        {
          "data": {
            "text/html": [
              "<div>\n",
              "<style scoped>\n",
              "    .dataframe tbody tr th:only-of-type {\n",
              "        vertical-align: middle;\n",
              "    }\n",
              "\n",
              "    .dataframe tbody tr th {\n",
              "        vertical-align: top;\n",
              "    }\n",
              "\n",
              "    .dataframe thead th {\n",
              "        text-align: right;\n",
              "    }\n",
              "</style>\n",
              "<table border=\"1\" class=\"dataframe\">\n",
              "  <thead>\n",
              "    <tr style=\"text-align: right;\">\n",
              "      <th></th>\n",
              "      <th>URL</th>\n",
              "      <th>Clase</th>\n",
              "      <th>Sentencia</th>\n",
              "    </tr>\n",
              "  </thead>\n",
              "  <tbody>\n",
              "    <tr>\n",
              "      <th>0</th>\n",
              "      <td>https://en.wikipedia.org/wiki/Meteorology</td>\n",
              "      <td>Meteorology</td>\n",
              "      <td></td>\n",
              "    </tr>\n",
              "    <tr>\n",
              "      <th>1</th>\n",
              "      <td>https://en.wikipedia.org/wiki/Meteorology</td>\n",
              "      <td>Meteorology</td>\n",
              "      <td></td>\n",
              "    </tr>\n",
              "    <tr>\n",
              "      <th>2</th>\n",
              "      <td>https://en.wikipedia.org/wiki/Meteorology</td>\n",
              "      <td>Meteorology</td>\n",
              "      <td>Atmospheric physics</td>\n",
              "    </tr>\n",
              "    <tr>\n",
              "      <th>3</th>\n",
              "      <td>https://en.wikipedia.org/wiki/Meteorology</td>\n",
              "      <td>Meteorology</td>\n",
              "      <td>Atmospheric dynamics (category)</td>\n",
              "    </tr>\n",
              "    <tr>\n",
              "      <th>4</th>\n",
              "      <td>https://en.wikipedia.org/wiki/Meteorology</td>\n",
              "      <td>Meteorology</td>\n",
              "      <td></td>\n",
              "    </tr>\n",
              "    <tr>\n",
              "      <th>...</th>\n",
              "      <td>...</td>\n",
              "      <td>...</td>\n",
              "      <td>...</td>\n",
              "    </tr>\n",
              "    <tr>\n",
              "      <th>19265</th>\n",
              "      <td>https://en.wikipedia.org/wiki/Sports_equipment</td>\n",
              "      <td>Sport</td>\n",
              "      <td></td>\n",
              "    </tr>\n",
              "    <tr>\n",
              "      <th>19266</th>\n",
              "      <td>https://en.wikipedia.org/wiki/Sports_equipment</td>\n",
              "      <td>Sport</td>\n",
              "      <td>Vehicles (sometimes specialized) are used as e...</td>\n",
              "    </tr>\n",
              "    <tr>\n",
              "      <th>19267</th>\n",
              "      <td>https://en.wikipedia.org/wiki/Sports_equipment</td>\n",
              "      <td>Sport</td>\n",
              "      <td></td>\n",
              "    </tr>\n",
              "    <tr>\n",
              "      <th>19268</th>\n",
              "      <td>https://en.wikipedia.org/wiki/Sports_equipment</td>\n",
              "      <td>Sport</td>\n",
              "      <td>Small vehicles with flatbeds are often used to...</td>\n",
              "    </tr>\n",
              "    <tr>\n",
              "      <th>19269</th>\n",
              "      <td>https://en.wikipedia.org/wiki/Sports_equipment</td>\n",
              "      <td>Sport</td>\n",
              "      <td></td>\n",
              "    </tr>\n",
              "  </tbody>\n",
              "</table>\n",
              "<p>19270 rows × 3 columns</p>\n",
              "</div>"
            ],
            "text/plain": [
              "                                                  URL        Clase  \\\n",
              "0           https://en.wikipedia.org/wiki/Meteorology  Meteorology   \n",
              "1           https://en.wikipedia.org/wiki/Meteorology  Meteorology   \n",
              "2           https://en.wikipedia.org/wiki/Meteorology  Meteorology   \n",
              "3           https://en.wikipedia.org/wiki/Meteorology  Meteorology   \n",
              "4           https://en.wikipedia.org/wiki/Meteorology  Meteorology   \n",
              "...                                               ...          ...   \n",
              "19265  https://en.wikipedia.org/wiki/Sports_equipment        Sport   \n",
              "19266  https://en.wikipedia.org/wiki/Sports_equipment        Sport   \n",
              "19267  https://en.wikipedia.org/wiki/Sports_equipment        Sport   \n",
              "19268  https://en.wikipedia.org/wiki/Sports_equipment        Sport   \n",
              "19269  https://en.wikipedia.org/wiki/Sports_equipment        Sport   \n",
              "\n",
              "                                               Sentencia  \n",
              "0                                                         \n",
              "1                                                         \n",
              "2                                    Atmospheric physics  \n",
              "3                        Atmospheric dynamics (category)  \n",
              "4                                                         \n",
              "...                                                  ...  \n",
              "19265                                                     \n",
              "19266  Vehicles (sometimes specialized) are used as e...  \n",
              "19267                                                     \n",
              "19268  Small vehicles with flatbeds are often used to...  \n",
              "19269                                                     \n",
              "\n",
              "[19270 rows x 3 columns]"
            ]
          },
          "execution_count": 7,
          "metadata": {},
          "output_type": "execute_result"
        }
      ],
      "source": [
        "# Ejecutamos la función y visualizamos el DataFrame\n",
        "archivo = \"./DataSet.csv\"\n",
        "df_registros = obtener_registros_por_parrafo(archivo)\n",
        "df_registros"
      ]
    },
    {
      "cell_type": "markdown",
      "metadata": {
        "id": "wQ6SQgtQ0xth"
      },
      "source": [
        "## Limpieza de los textos\n",
        "\n",
        "La función `limpiar_df` realiza la limpieza de los textos extraídos de las URL y guardados en el DataFrame del punto anterior.\n",
        "\n",
        "La limpieza consiste en:\n",
        "* Convertir todos los textos a minúscula\n",
        "* Eliminar stopswords, números y signos de puntuación\n",
        "* Obtener los lemas de las palabras\n",
        "* Crea sentencias con los saltos de línea, para obtener textos mas cortos.\n",
        "* Eliminar registros con menos de 10 palabras\n",
        "\n",
        "Retorna el DataFrame limpio donde podemos averiguar la cantidad de registros, la longitud máxima de las sentencias y la longitud promedio. Estos últimos valores los necesitamos conocer para saber dónde podemos truncar las sentencias."
      ]
    },
    {
      "cell_type": "code",
      "execution_count": 11,
      "metadata": {
        "id": "hN5UhOpPWGwe"
      },
      "outputs": [],
      "source": [
        "def limpiar_df(df):\n",
        "    '''\n",
        "    Permite limpiar un DataFrame, convirtiendo todo a minúsculas, eliminando stopswords, números y signos de puntuación,\n",
        "    obteniendo los lemas de las palabras y eliminando registros cortos de menos de 10 palabras.\n",
        "    Retorna un DataFrame limpio.\n",
        "    '''\n",
        "    # Convertir todo a minúsculas\n",
        "    df['Sentencia'] = df['Sentencia'].str.lower()\n",
        "\n",
        "    # Eliminar stopwords, números y signos de puntuación\n",
        "    stop_words = set(stopwords.words('english'))\n",
        "    lemmatizer = WordNetLemmatizer()\n",
        "    df['Sentencia'] = df['Sentencia'].apply(lambda x: ' '.join([lemmatizer.lemmatize(word) for word in x.split() if word not in stop_words and not word.isnumeric()]))\n",
        "\n",
        "    # Genera sentencias por cada salto de línea\n",
        "    df['Sentencia'] = df['Sentencia'].apply(lambda x: re.sub(r'[^\\w\\s]', '', x))\n",
        "\n",
        "    # Eliminar registros con menos de 10 palabras\n",
        "    df['Num_Words'] = df['Sentencia'].apply(lambda x: len(re.findall(r'\\w+', x)))\n",
        "    df = df[df['Num_Words'] >= 10].drop(columns='Num_Words')\n",
        "\n",
        "    return df\n"
      ]
    },
    {
      "cell_type": "code",
      "execution_count": 12,
      "metadata": {
        "colab": {
          "base_uri": "https://localhost:8080/",
          "height": 424
        },
        "id": "q9rxayYkWG59",
        "outputId": "a8d96b65-33fb-406b-e979-dacd675b8937"
      },
      "outputs": [
        {
          "data": {
            "text/html": [
              "<div>\n",
              "<style scoped>\n",
              "    .dataframe tbody tr th:only-of-type {\n",
              "        vertical-align: middle;\n",
              "    }\n",
              "\n",
              "    .dataframe tbody tr th {\n",
              "        vertical-align: top;\n",
              "    }\n",
              "\n",
              "    .dataframe thead th {\n",
              "        text-align: right;\n",
              "    }\n",
              "</style>\n",
              "<table border=\"1\" class=\"dataframe\">\n",
              "  <thead>\n",
              "    <tr style=\"text-align: right;\">\n",
              "      <th></th>\n",
              "      <th>URL</th>\n",
              "      <th>Clase</th>\n",
              "      <th>Sentencia</th>\n",
              "    </tr>\n",
              "  </thead>\n",
              "  <tbody>\n",
              "    <tr>\n",
              "      <th>10</th>\n",
              "      <td>https://en.wikipedia.org/wiki/Meteorology</td>\n",
              "      <td>Meteorology</td>\n",
              "      <td>meteorology branch atmospheric science which i...</td>\n",
              "    </tr>\n",
              "    <tr>\n",
              "      <th>12</th>\n",
              "      <td>https://en.wikipedia.org/wiki/Meteorology</td>\n",
              "      <td>Meteorology</td>\n",
              "      <td>meteorological phenomenon observable weather e...</td>\n",
              "    </tr>\n",
              "    <tr>\n",
              "      <th>14</th>\n",
              "      <td>https://en.wikipedia.org/wiki/Meteorology</td>\n",
              "      <td>Meteorology</td>\n",
              "      <td>meteorology climatology atmospheric physics at...</td>\n",
              "    </tr>\n",
              "    <tr>\n",
              "      <th>16</th>\n",
              "      <td>https://en.wikipedia.org/wiki/Meteorology</td>\n",
              "      <td>Meteorology</td>\n",
              "      <td>word meteorology ancient greek μετέωρος metéōr...</td>\n",
              "    </tr>\n",
              "    <tr>\n",
              "      <th>18</th>\n",
              "      <td>https://en.wikipedia.org/wiki/Meteorology</td>\n",
              "      <td>Meteorology</td>\n",
              "      <td>early attempt predicting weather often related...</td>\n",
              "    </tr>\n",
              "    <tr>\n",
              "      <th>...</th>\n",
              "      <td>...</td>\n",
              "      <td>...</td>\n",
              "      <td>...</td>\n",
              "    </tr>\n",
              "    <tr>\n",
              "      <th>19260</th>\n",
              "      <td>https://en.wikipedia.org/wiki/Sports_equipment</td>\n",
              "      <td>Sport</td>\n",
              "      <td>protective equipment often worn sport includin...</td>\n",
              "    </tr>\n",
              "    <tr>\n",
              "      <th>19262</th>\n",
              "      <td>https://en.wikipedia.org/wiki/Sports_equipment</td>\n",
              "      <td>Sport</td>\n",
              "      <td>example training equipment include swiss balls...</td>\n",
              "    </tr>\n",
              "    <tr>\n",
              "      <th>19264</th>\n",
              "      <td>https://en.wikipedia.org/wiki/Sports_equipment</td>\n",
              "      <td>Sport</td>\n",
              "      <td>special sport equipment equipment usually worn...</td>\n",
              "    </tr>\n",
              "    <tr>\n",
              "      <th>19266</th>\n",
              "      <td>https://en.wikipedia.org/wiki/Sports_equipment</td>\n",
              "      <td>Sport</td>\n",
              "      <td>vehicle sometimes specialized used equipment s...</td>\n",
              "    </tr>\n",
              "    <tr>\n",
              "      <th>19268</th>\n",
              "      <td>https://en.wikipedia.org/wiki/Sports_equipment</td>\n",
              "      <td>Sport</td>\n",
              "      <td>small vehicle flatbed often used carry injured...</td>\n",
              "    </tr>\n",
              "  </tbody>\n",
              "</table>\n",
              "<p>8017 rows × 3 columns</p>\n",
              "</div>"
            ],
            "text/plain": [
              "                                                  URL        Clase  \\\n",
              "10          https://en.wikipedia.org/wiki/Meteorology  Meteorology   \n",
              "12          https://en.wikipedia.org/wiki/Meteorology  Meteorology   \n",
              "14          https://en.wikipedia.org/wiki/Meteorology  Meteorology   \n",
              "16          https://en.wikipedia.org/wiki/Meteorology  Meteorology   \n",
              "18          https://en.wikipedia.org/wiki/Meteorology  Meteorology   \n",
              "...                                               ...          ...   \n",
              "19260  https://en.wikipedia.org/wiki/Sports_equipment        Sport   \n",
              "19262  https://en.wikipedia.org/wiki/Sports_equipment        Sport   \n",
              "19264  https://en.wikipedia.org/wiki/Sports_equipment        Sport   \n",
              "19266  https://en.wikipedia.org/wiki/Sports_equipment        Sport   \n",
              "19268  https://en.wikipedia.org/wiki/Sports_equipment        Sport   \n",
              "\n",
              "                                               Sentencia  \n",
              "10     meteorology branch atmospheric science which i...  \n",
              "12     meteorological phenomenon observable weather e...  \n",
              "14     meteorology climatology atmospheric physics at...  \n",
              "16     word meteorology ancient greek μετέωρος metéōr...  \n",
              "18     early attempt predicting weather often related...  \n",
              "...                                                  ...  \n",
              "19260  protective equipment often worn sport includin...  \n",
              "19262  example training equipment include swiss balls...  \n",
              "19264  special sport equipment equipment usually worn...  \n",
              "19266  vehicle sometimes specialized used equipment s...  \n",
              "19268  small vehicle flatbed often used carry injured...  \n",
              "\n",
              "[8017 rows x 3 columns]"
            ]
          },
          "execution_count": 12,
          "metadata": {},
          "output_type": "execute_result"
        }
      ],
      "source": [
        "# Generamos el DataFrame limpio y lo vemos\n",
        "df_limpio = limpiar_df(df_registros)\n",
        "df_limpio"
      ]
    }
  ],
  "metadata": {
    "colab": {
      "gpuType": "T4",
      "provenance": []
    },
    "kernelspec": {
      "display_name": "Python 3",
      "name": "python3"
    },
    "language_info": {
      "codemirror_mode": {
        "name": "ipython",
        "version": 3
      },
      "file_extension": ".py",
      "mimetype": "text/x-python",
      "name": "python",
      "nbconvert_exporter": "python",
      "pygments_lexer": "ipython3",
      "version": "3.10.11"
    }
  },
  "nbformat": 4,
  "nbformat_minor": 0
}
